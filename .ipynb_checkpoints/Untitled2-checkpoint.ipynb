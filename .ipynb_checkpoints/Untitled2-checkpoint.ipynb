{
 "cells": [
  {
   "cell_type": "code",
   "execution_count": 4,
   "id": "ea56cfed",
   "metadata": {},
   "outputs": [
    {
     "name": "stderr",
     "output_type": "stream",
     "text": [
      "2023-03-21 22:39:31.660 \n",
      "  \u001b[33m\u001b[1mWarning:\u001b[0m to view this Streamlit app on a browser, run it with the following\n",
      "  command:\n",
      "\n",
      "    streamlit run C:\\Users\\laama\\anaconda3\\lib\\site-packages\\ipykernel_launcher.py [ARGUMENTS]\n",
      "2023-03-21 22:39:31.662 Session state does not function when running a script without `streamlit run`\n"
     ]
    }
   ],
   "source": [
    "import pandas as pd\n",
    "import joblib\n",
    "import streamlit as st\n",
    "\n",
    "# Cargar el conjunto de datos\n",
    "data = pd.read_csv('rec_study.csv')\n",
    "\n",
    "# Separar las variables predictoras y la variable objetivo\n",
    "X = data.drop('reoffend', axis=1)\n",
    "y = data['reoffend']\n",
    "\n",
    "# Entrenar un modelo de clasificación\n",
    "from sklearn.ensemble import RandomForestClassifier\n",
    "\n",
    "rfc = RandomForestClassifier(n_estimators=100, random_state=42)\n",
    "rfc.fit(X, y)\n",
    "\n",
    "# Guardar el modelo en un archivo\n",
    "joblib.dump(rfc, 'Final_work.joblib')\n",
    "\n",
    "# Cargar el modelo\n",
    "modelo = joblib.load('Final_work.joblib')\n",
    "\n",
    "# Definir la función de predicción\n",
    "def predict(modelo, input_df):\n",
    "    predictions = modelo.predict(input_df)\n",
    "    return predictions\n",
    "\n",
    "# Configurar la página de Streamlit\n",
    "def app():\n",
    "    st.title('Mi aplicación de clasificación de reincidencia')\n",
    "    \n",
    "    # Agregar una sección de carga de datos\n",
    "    st.subheader('Ingrese los datos a clasificar:')\n",
    "    max_severity = st.slider('Gravedad máxima', 1, 10)\n",
    "    ave_severity = st.slider('Gravedad media', 1, 10)\n",
    "    sentence_time = st.slider('Tiempo de condena', 1, 50)\n",
    "    sentence_served = st.slider('Tiempo de condena cumplido', 1, 50)\n",
    "    repeat_offender = st.selectbox('Reincidencia', [0, 1])\n",
    "    substance_use = st.selectbox('Consumo de sustancias', [0, 1])\n",
    "    support = st.selectbox('Soporte familiar', [0, 1])\n",
    "    education = st.selectbox('Educación', [0, 1])\n",
    "    \n",
    "    # Crear un DataFrame con los datos ingresados por el usuario\n",
    "    input_dict = {'max_severity': max_severity, 'ave_severity': ave_severity, \n",
    "                  'sentence_time': sentence_time, 'sentence_served': sentence_served, \n",
    "                  'repeat_offender': repeat_offender, 'substance_use': substance_use, \n",
    "                  'support': support, 'education': education}\n",
    "    input_df = pd.DataFrame([input_dict])\n",
    "    \n",
    "    # Realizar la predicción\n",
    "    if st.button('Predecir'):\n",
    "        output = predict(modelo=modelo, input_df=input_df)\n",
    "        if output == 0:\n",
    "            st.write('El individuo no reincidirá.')\n",
    "        else:\n",
    "            st.write('El individuo reincidirá.')\n",
    "\n",
    "if __name__ == '__main__':\n",
    "    app()\n"
   ]
  },
  {
   "cell_type": "code",
   "execution_count": null,
   "id": "636402d7",
   "metadata": {},
   "outputs": [],
   "source": []
  },
  {
   "cell_type": "code",
   "execution_count": null,
   "id": "98ee6688",
   "metadata": {},
   "outputs": [],
   "source": []
  }
 ],
 "metadata": {
  "kernelspec": {
   "display_name": "Python 3 (ipykernel)",
   "language": "python",
   "name": "python3"
  },
  "language_info": {
   "codemirror_mode": {
    "name": "ipython",
    "version": 3
   },
   "file_extension": ".py",
   "mimetype": "text/x-python",
   "name": "python",
   "nbconvert_exporter": "python",
   "pygments_lexer": "ipython3",
   "version": "3.9.13"
  }
 },
 "nbformat": 4,
 "nbformat_minor": 5
}
